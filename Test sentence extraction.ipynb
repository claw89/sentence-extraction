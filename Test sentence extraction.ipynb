{
 "cells": [
  {
   "cell_type": "code",
   "execution_count": null,
   "metadata": {},
   "outputs": [],
   "source": [
    "import os\n",
    "import csv\n",
    "import pickle\n",
    "import json\n",
    "import argparse\n",
    "import time\n",
    "import pythoncom\n",
    "from win32com.client import Dispatch\n",
    "from tqdm.auto import tqdm\n",
    "import spacy\n",
    "import logging\n",
    "import random\n",
    "import re"
   ]
  },
  {
   "cell_type": "code",
   "execution_count": null,
   "metadata": {},
   "outputs": [],
   "source": [
    "def reverse_index_conversion(x, jump_points):\n",
    "    addition = 0\n",
    "    for index in jump_points:\n",
    "        if x >= index - addition:\n",
    "            addition += 1\n",
    "        else:\n",
    "            return x + addition\n",
    "    return x + addition\n",
    "\n",
    "def get_sentence_pairs(path):\n",
    "    \"\"\"|\n",
    "    Extract lists of the original and revised sentences\n",
    "    for the Word document indicated by the supplied path\n",
    "    \"\"\"\n",
    "    \n",
    "    myWord.Visible = False\n",
    "    doc = myWord.Documents.Open(path)\n",
    "    doc.TrackRevisions = False\n",
    "    doc.ActiveWindow.View.RevisionsFilter.Markup = 2\n",
    "    for table in doc.Tables:\n",
    "        table.Delete()\n",
    "    doc.Fields.Unlink()\n",
    "    doc.Save()\n",
    "    for omath in doc.OMaths:\n",
    "        omath.Remove()\n",
    "    \n",
    "    #Generate sentence spans\n",
    "    text = doc.Content.Text\n",
    "    \n",
    "    if tokenizer == \"nltk\":\n",
    "        span_generator = sentence_tokenizer.span_tokenize(text)\n",
    "        spans = list(span_generator)\n",
    "    \n",
    "    elif tokenizer == \"spacy\":\n",
    "        nlp_doc = nlp(text)\n",
    "        spans = [(s.start_char, s.end_char) for s in nlp_doc.sents]\n",
    "    \n",
    "    #Calculate jump points in the Doc indices\n",
    "    macro = myWord.Documents.Open(os.path.abspath(\"macro.docm\"))\n",
    "    result = myWord.Application.Run(\"CheckJumps\", path)\n",
    "    jumps = json.loads(result)\n",
    "    \n",
    "    #Check for sentences with revised boundaries\n",
    "    span_ends_string = json.dumps([reverse_index_conversion(e, jumps) for s, e in spans])\n",
    "    macro = myWord.Documents.Open(os.path.abspath(\"macro.docm\"))\n",
    "    result = myWord.Application.Run(\"CheckBoundaryRevisions\", \n",
    "                                    span_ends_string,\n",
    "                                    path)\n",
    "    joins = json.loads(result)\n",
    "    \n",
    "    if len(joins) > 0:\n",
    "        if joins[-1] == len(spans) - 1:\n",
    "            joins.pop()\n",
    "    \n",
    "    #Join sentences with revised boundaries\n",
    "    for join in joins[::-1]:\n",
    "        spans = spans[:join] + [(spans[join][0], spans[join+1][1])] + spans[join+2:]\n",
    "\n",
    "    #Convert sentence spans to Doc indices and extract sentence pairs\n",
    "    converted_spans = [(reverse_index_conversion(s, jumps), \n",
    "                        reverse_index_conversion(e, jumps)) for s, e in spans[::-1]]\n",
    "    myWord.Visible = False\n",
    "    macro = myWord.Documents.Open(os.path.abspath(\"macro.docm\"))\n",
    "    result = myWord.Application.Run(\"ExtractSentences\", \n",
    "                                    json.dumps(converted_spans), \n",
    "                                    json.dumps(spans[::-1]),\n",
    "                                    text,\n",
    "                                    path)\n",
    "    sentences = json.loads(result)\n",
    "    \n",
    "    return sentences, len(spans)"
   ]
  },
  {
   "cell_type": "code",
   "execution_count": null,
   "metadata": {},
   "outputs": [],
   "source": [
    "myWord = Dispatch(\"Word.Application\")\n",
    "tokenizer = \"spacy\"\n",
    "nlp = spacy.load(\"en_core_web_sm\")"
   ]
  },
  {
   "cell_type": "code",
   "execution_count": null,
   "metadata": {},
   "outputs": [],
   "source": [
    "sentences, total_num_sents = get_sentence_pairs(\"D:\\proofread\\O-2016-000061-翻譯105.1.4--edited final___.docx\")"
   ]
  },
  {
   "cell_type": "code",
   "execution_count": null,
   "metadata": {},
   "outputs": [],
   "source": [
    "print(total_num_sents, len(sentences[\"OriginalSentences\"]))"
   ]
  },
  {
   "cell_type": "code",
   "execution_count": null,
   "metadata": {},
   "outputs": [],
   "source": [
    "sentences[\"OriginalSentences\"][200], sentences[\"RevisedSentences\"][200]"
   ]
  },
  {
   "cell_type": "code",
   "execution_count": null,
   "metadata": {},
   "outputs": [],
   "source": []
  }
 ],
 "metadata": {
  "kernelspec": {
   "display_name": "Python 3",
   "language": "python",
   "name": "python3"
  },
  "language_info": {
   "codemirror_mode": {
    "name": "ipython",
    "version": 3
   },
   "file_extension": ".py",
   "mimetype": "text/x-python",
   "name": "python",
   "nbconvert_exporter": "python",
   "pygments_lexer": "ipython3",
   "version": "3.6.10"
  }
 },
 "nbformat": 4,
 "nbformat_minor": 4
}
