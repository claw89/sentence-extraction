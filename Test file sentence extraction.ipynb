{
 "cells": [
  {
   "cell_type": "code",
   "execution_count": null,
   "metadata": {},
   "outputs": [],
   "source": [
    "import os\n",
    "import json\n",
    "import pickle\n",
    "from win32com.client import Dispatch\n",
    "import re\n",
    "import time\n",
    "\n",
    "myWord = Dispatch(\"Word.Application\")"
   ]
  },
  {
   "cell_type": "code",
   "execution_count": null,
   "metadata": {},
   "outputs": [],
   "source": [
    "path = \"D:\\\\proofread\\\\O-2016-000342﻿ Design of a four-axis forcetorque sensor using strain gauges_to edit_Edited.docx\"\n",
    "doc = myWord.Documents.Open(path)\n",
    "doc.ActiveWindow.View.RevisionsFilter.Markup = 2\n",
    "doc.TrackRevisions = False\n",
    "for table in doc.Tables:\n",
    "    table.Delete()\n",
    "doc.Fields.Unlink()\n",
    "for omath in doc.OMaths:\n",
    "    omath.Remove()"
   ]
  },
  {
   "cell_type": "code",
   "execution_count": null,
   "metadata": {},
   "outputs": [],
   "source": [
    "def reverse_index_conversion(x, jump_points):\n",
    "    addition = 0\n",
    "    for index in jump_points:\n",
    "        if x >= index - addition:\n",
    "            addition += 1\n",
    "        else:\n",
    "            return x + addition\n",
    "    return x + addition"
   ]
  },
  {
   "cell_type": "code",
   "execution_count": null,
   "metadata": {},
   "outputs": [],
   "source": [
    "import spacy\n",
    "\n",
    "nlp = spacy.load(\"en_core_web_sm\")"
   ]
  },
  {
   "cell_type": "code",
   "execution_count": null,
   "metadata": {},
   "outputs": [],
   "source": [
    "text = doc.Content.Text\n",
    "nlp_doc = nlp(text)\n",
    "spans = [(s.start_char, s.end_char) for s in nlp_doc.sents]"
   ]
  },
  {
   "cell_type": "code",
   "execution_count": null,
   "metadata": {},
   "outputs": [],
   "source": [
    "macro = myWord.Documents.Open(os.path.abspath(\"macro.docm\"))\n",
    "result = myWord.Application.Run(\"CheckJumps\", \n",
    "                                path,\n",
    "                                50)\n",
    "jumps = json.loads(result)"
   ]
  },
  {
   "cell_type": "code",
   "execution_count": null,
   "metadata": {},
   "outputs": [],
   "source": [
    "# The same as the cell above, but run on Doc macro instead\n",
    "span_ends_string = json.dumps([reverse_index_conversion(e, jumps) for s, e in spans])\n",
    "\n",
    "macro = myWord.Documents.Open(os.path.abspath(\"macro.docm\"))\n",
    "result = myWord.Application.Run(\"CheckBoundaryRevisions\", \n",
    "                                span_ends_string,\n",
    "                                path)\n",
    "joins = json.loads(result)"
   ]
  },
  {
   "cell_type": "code",
   "execution_count": null,
   "metadata": {},
   "outputs": [],
   "source": [
    "if joins[-1] == len(spans) - 1:\n",
    "    joins.pop()"
   ]
  },
  {
   "cell_type": "code",
   "execution_count": null,
   "metadata": {},
   "outputs": [],
   "source": [
    "for join in joins[::-1]:\n",
    "    #print(join)\n",
    "    spans = spans[:join] + [(spans[join][0], spans[join+1][1])] + spans[join+2:]"
   ]
  },
  {
   "cell_type": "code",
   "execution_count": null,
   "metadata": {},
   "outputs": [],
   "source": [
    "doc = myWord.Documents.Open(path)\n",
    "doc.TrackRevisions = False\n",
    "for table in doc.Tables:\n",
    "    table.Delete()\n",
    "doc.Fields.Unlink()\n",
    "for omath in doc.OMaths:\n",
    "    omath.Remove()\n",
    "for span in spans:\n",
    "    start = span[0]\n",
    "    end = span[1]\n",
    "    print(span)\n",
    "    print(text[start:end])\n",
    "    print(len(text[start:end]))\n",
    "    print(doc.Range(reverse_index_conversion(start, jumps), reverse_index_conversion(end, jumps)).Text)\n",
    "    print(len(doc.Range(reverse_index_conversion(start, jumps), reverse_index_conversion(end, jumps)).Text))\n",
    "    print(doc.Range(reverse_index_conversion(start, jumps), reverse_index_conversion(end, jumps)).Text == text[start:end])\n",
    "    print()"
   ]
  },
  {
   "cell_type": "code",
   "execution_count": null,
   "metadata": {},
   "outputs": [],
   "source": [
    "doc = myWord.Documents.Open(path)\n",
    "doc.TrackRevisions = False\n",
    "for table in doc.Tables:\n",
    "    table.Delete()\n",
    "doc.Fields.Unlink()\n",
    "for omath in doc.OMaths:\n",
    "    omath.Remove()\n",
    "correct = 0\n",
    "for span in spans:\n",
    "    start = span[0]\n",
    "    end = span[1]\n",
    "    if doc.Range(reverse_index_conversion(start, jumps), reverse_index_conversion(end, jumps)).Text == text[start:end]:\n",
    "        correct += 1\n",
    "print(\"{} sentences correctly tokenized out of {}\".format(correct, len(spans)))"
   ]
  },
  {
   "cell_type": "code",
   "execution_count": null,
   "metadata": {},
   "outputs": [],
   "source": [
    "all_correct = all([doc.Range(reverse_index_conversion(start, jumps), reverse_index_conversion(end, jumps)).Text == text[start:end] for start, end in spans])"
   ]
  },
  {
   "cell_type": "code",
   "execution_count": null,
   "metadata": {},
   "outputs": [],
   "source": [
    "for i in range(10):\n",
    "    print(i, (-1)**i, ((-1)**i)*i)"
   ]
  },
  {
   "cell_type": "code",
   "execution_count": null,
   "metadata": {},
   "outputs": [],
   "source": [
    "li = sorted([i for i in range(10)] + [i for i in range(10)])\n",
    "li.pop(0)\n",
    "window_sizes = [50 + ((-1)**i) * j for i, j in enumerate(li)]\n",
    "window_sizes"
   ]
  },
  {
   "cell_type": "code",
   "execution_count": null,
   "metadata": {},
   "outputs": [],
   "source": [
    "correct = False\n",
    "for window_size in window_sizes:\n",
    "    if not correct:\n",
    "        macro = myWord.Documents.Open(os.path.abspath(\"macro.docm\"))\n",
    "        result = myWord.Application.Run(\"CheckJumps\", \n",
    "                                        path,\n",
    "                                        window_size)\n",
    "        jumps = json.loads(result)\n",
    "        \n",
    "        span_ends_string = json.dumps([reverse_index_conversion(e, jumps) for s, e in spans])\n",
    "\n",
    "        macro = myWord.Documents.Open(os.path.abspath(\"macro.docm\"))\n",
    "        result = myWord.Application.Run(\"CheckBoundaryRevisions\", \n",
    "                                        span_ends_string,\n",
    "                                        path)\n",
    "        joins = json.loads(result)\n",
    "        if joins[-1] == len(spans) - 1:\n",
    "            joins.pop()\n",
    "        for join in joins[::-1]:\n",
    "            spans = spans[:join] + [(spans[join][0], spans[join+1][1])] + spans[join+2:]\n",
    "        correct = all([doc.Range(reverse_index_conversion(start, jumps), \n",
    "                                     reverse_index_conversion(end, jumps)).Text == text[start:end] for start, end in spans])\n",
    "        if correct:\n",
    "            print(\"All sentences extracted with window size of {}\".format(window_size))\n",
    "if not correct:\n",
    "    print(\"Sentences not extracted window size range of {}; try increasing the window size range.\".format(int((len(window_sizes) + 1 )/ 2)))"
   ]
  },
  {
   "cell_type": "code",
   "execution_count": null,
   "metadata": {},
   "outputs": [],
   "source": [
    "doc = myWord.Documents.Open(path)\n",
    "doc.TrackRevisions = False\n",
    "for table in doc.Tables:\n",
    "    table.Delete()\n",
    "doc.Fields.Unlink()\n",
    "for omath in doc.OMaths:\n",
    "    omath.Remove()\n",
    "for span in spans:\n",
    "    start = span[0]\n",
    "    end = span[1]\n",
    "    print(span)\n",
    "    print(text[start:end])\n",
    "    print(len(text[start:end]))\n",
    "    print(doc.Range(reverse_index_conversion(start, jumps), reverse_index_conversion(end, jumps)).Text)\n",
    "    print(len(doc.Range(reverse_index_conversion(start, jumps), reverse_index_conversion(end, jumps)).Text))\n",
    "    print(doc.Range(reverse_index_conversion(start, jumps), reverse_index_conversion(end, jumps)).Text == text[start:end])\n",
    "    print()"
   ]
  },
  {
   "cell_type": "code",
   "execution_count": null,
   "metadata": {},
   "outputs": [],
   "source": [
    "converted_spans = [(reverse_index_conversion(s, jumps), \n",
    "                    reverse_index_conversion(e, jumps)) for s, e in spans[::-1]]\n",
    "myWord.Visible = False\n",
    "macro = myWord.Documents.Open(os.path.abspath(\"macro.docm\"))\n",
    "result = myWord.Application.Run(\"ExtractSentences\", \n",
    "                                json.dumps(converted_spans), \n",
    "                                json.dumps(spans[::-1]),\n",
    "                                text,\n",
    "                                path)\n",
    "sentences = json.loads(result)"
   ]
  },
  {
   "cell_type": "code",
   "execution_count": null,
   "metadata": {},
   "outputs": [],
   "source": [
    "len(sentences[\"OriginalSentences\"])"
   ]
  },
  {
   "cell_type": "code",
   "execution_count": null,
   "metadata": {},
   "outputs": [],
   "source": [
    "len(spans)"
   ]
  },
  {
   "cell_type": "code",
   "execution_count": null,
   "metadata": {},
   "outputs": [],
   "source": [
    "converted_spans[88], spans[::-1][88]"
   ]
  },
  {
   "cell_type": "code",
   "execution_count": null,
   "metadata": {},
   "outputs": [],
   "source": [
    "doc.Range(5974, 6109).Text"
   ]
  },
  {
   "cell_type": "code",
   "execution_count": null,
   "metadata": {},
   "outputs": [],
   "source": [
    "text[5958: 6093]"
   ]
  },
  {
   "cell_type": "code",
   "execution_count": null,
   "metadata": {},
   "outputs": [],
   "source": [
    "len(sentences[\"OriginalSentences\"])"
   ]
  },
  {
   "cell_type": "code",
   "execution_count": null,
   "metadata": {},
   "outputs": [],
   "source": [
    "int((len(window_sizes) + 1 )/ 2)"
   ]
  },
  {
   "cell_type": "code",
   "execution_count": null,
   "metadata": {},
   "outputs": [],
   "source": [
    "start, end = 2740, 2850\n",
    "text[start:end] == doc.Range(reverse_index_conversion(start, jumps), reverse_index_conversion(end, jumps)).Text"
   ]
  },
  {
   "cell_type": "code",
   "execution_count": null,
   "metadata": {},
   "outputs": [],
   "source": [
    "text[start:stop]"
   ]
  },
  {
   "cell_type": "code",
   "execution_count": null,
   "metadata": {},
   "outputs": [],
   "source": [
    "doc.Range(reverse_index_conversion(2740, jumps), reverse_index_conversion(2851, jumps)).Text"
   ]
  },
  {
   "cell_type": "code",
   "execution_count": null,
   "metadata": {},
   "outputs": [],
   "source": [
    "jumps"
   ]
  },
  {
   "cell_type": "code",
   "execution_count": null,
   "metadata": {},
   "outputs": [],
   "source": [
    "reverse_index_conversion(2850, jumps) - 49"
   ]
  },
  {
   "cell_type": "code",
   "execution_count": null,
   "metadata": {},
   "outputs": [],
   "source": [
    "doc.Range(reverse_index_conversion(2740, jumps), reverse_index_conversion(2851, jumps)).Text"
   ]
  }
 ],
 "metadata": {
  "kernelspec": {
   "display_name": "Python 3",
   "language": "python",
   "name": "python3"
  },
  "language_info": {
   "codemirror_mode": {
    "name": "ipython",
    "version": 3
   },
   "file_extension": ".py",
   "mimetype": "text/x-python",
   "name": "python",
   "nbconvert_exporter": "python",
   "pygments_lexer": "ipython3",
   "version": "3.6.10"
  }
 },
 "nbformat": 4,
 "nbformat_minor": 4
}
